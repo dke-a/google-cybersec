{
 "cells": [
  {
   "cell_type": "markdown",
   "metadata": {},
   "source": [
    "# Algorithm for file updates in Python"
   ]
  },
  {
   "cell_type": "markdown",
   "metadata": {},
   "source": [
    "\n",
    "## Project description\n",
    "\n",
    "In this project, we aim to update an allow list of IP addresses stored in a file. \n",
    "The task involves reading the file, converting its contents to a list, and then \n",
    "removing specific IP addresses from this list. After updating the list, the revised \n",
    "list is written back to the file.\n"
   ]
  },
  {
   "cell_type": "markdown",
   "metadata": {
    "vscode": {
     "languageId": "plaintext"
    }
   },
   "source": [
    "\n",
    "## Open the file that contains the allow list and read content\n",
    "\n",
    "The first step in this algorithm is to open the file that contains the allow list. \n",
    "We use the `with` statement to ensure that the file is properly managed, meaning it \n",
    "will automatically close after we're done working with it. The file is opened in \n",
    "read mode using `\"r\"`, and we use the `.read()` method to read its contents into a \n",
    "string, which is then stored in a variable named `ip_addresses`."
   ]
  },
  {
   "cell_type": "code",
   "execution_count": null,
   "metadata": {},
   "outputs": [],
   "source": [
    "# Assign `import_file` to the name of the file \n",
    "\n",
    "import_file = \"allow_list.txt\"\n",
    "\n",
    "# Assign `remove_list` to a list of IP addresses that are no longer allowed to access restricted information. \n",
    "\n",
    "remove_list = [\"192.168.97.225\", \"192.168.158.170\", \"192.168.201.40\", \"192.168.58.57\"]\n",
    "\n",
    "# Build `with` statement to read in the initial contents of the file\n",
    "\n",
    "with open(import_file, \"r\") as file:\n",
    "\n",
    "  # Use `.read()` to read the imported file and store it in a variable named `ip_addresses`\n",
    "\n",
    "  ip_addresses = file.read()"
   ]
  },
  {
   "cell_type": "markdown",
   "metadata": {},
   "source": [
    "\n",
    "## Convert the string into a list\n",
    "\n",
    "Once the contents of the allow list file are stored in a string, the next step is \n",
    "to convert this string into a list of IP addresses. The `.split()` method is used \n",
    "to separate the string by newline characters, resulting in a list where each element \n",
    "is an IP address from the file."
   ]
  },
  {
   "cell_type": "code",
   "execution_count": null,
   "metadata": {},
   "outputs": [],
   "source": [
    "# Use `.split()` to convert `ip_addresses` from a string to a list\n",
    "\n",
    "ip_addresses = ip_addresses.split()"
   ]
  },
  {
   "cell_type": "markdown",
   "metadata": {},
   "source": [
    "## Iterate through the remove list\n",
    "\n",
    "To update the allow list, we need to iterate through another list called `remove_list`, \n",
    "which contains the IP addresses that should be removed. The `for` loop is used to \n",
    "iterate through each IP address in `remove_list`.\n",
    "\n"
   ]
  },
  {
   "cell_type": "code",
   "execution_count": null,
   "metadata": {},
   "outputs": [],
   "source": [
    "# Build iterative statement\n",
    "# Name loop variable `element`\n",
    "# Loop through `ip_addresses`\n",
    "\n",
    "for element in ip_addresses:\n",
    "  \n",
    "  # Build conditional statement\n",
    "  # If current element is in `remove_list`,\n",
    "\n",
    "    if element in remove_list:\n",
    "\n",
    "        # then current element should be removed from `ip_addresses`\n",
    "\n",
    "        ip_addresses.remove(element)\n",
    "\n",
    "# Display `ip_addresses` \n",
    "\n",
    "print(ip_addresses)"
   ]
  },
  {
   "cell_type": "markdown",
   "metadata": {},
   "source": [
    "## Remove IP addresses that are on the remove list\n",
    "\n",
    "In the body of the `for` loop, we check if the current `element` (IP address) is in the \n",
    "`ip_addresses` list. If it is, we use the `.remove()` method to remove that IP address \n",
    "from the list. This approach is effective because the `ip_addresses` list does not \n",
    "contain duplicates, so each IP address will only be removed once."
   ]
  },
  {
   "cell_type": "code",
   "execution_count": null,
   "metadata": {},
   "outputs": [],
   "source": [
    "for element in ip_addresses:\n",
    "  \n",
    "  # Build conditional statement\n",
    "  # If current element is in `remove_list`,\n",
    "  \n",
    "    if element in remove_list:\n",
    "\n",
    "        # then current element should be removed from `ip_addresses`\n",
    "\n",
    "        ip_addresses.remove(element)"
   ]
  },
  {
   "cell_type": "markdown",
   "metadata": {
    "vscode": {
     "languageId": "plaintext"
    }
   },
   "source": [
    "\n",
    "\n",
    "## Update the file with the revised list of IP addresses \n",
    "\n",
    "After removing the necessary IP addresses from the list, the next step is to convert \n",
    "the list back into a string. This is done using the `.join()` method, with each IP \n",
    "address separated by a newline character. Finally, the updated string is written \n",
    "back to the file, replacing its original contents.\n",
    "\n",
    "\n"
   ]
  },
  {
   "cell_type": "code",
   "execution_count": null,
   "metadata": {},
   "outputs": [],
   "source": [
    "\n",
    "\n",
    "# Convert `ip_addresses` back to a string so that it can be written into the text file     \n",
    "\n",
    "ip_addresses = \" \".join(ip_addresses)\n",
    "\n",
    "# Build `with` statement to rewrite the original file\n",
    "\n",
    "with open(import_file, \"w\") as file:\n",
    "\n",
    "  # Rewrite the file, replacing its contents with `ip_addresses`\n",
    "\n",
    "  file.write(ip_addresses)\n",
    "\n",
    "# Build `with` statement to read in the updated file\n",
    "\n",
    "with open(import_file, \"r\") as file:\n",
    "\n",
    "    # Read in the updated file and store the contents in `text`\n",
    "\n",
    "    text = file.read()\n",
    "\n",
    "# Display the contents of `text`\n",
    "\n",
    "print(text)"
   ]
  },
  {
   "cell_type": "markdown",
   "metadata": {
    "vscode": {
     "languageId": "plaintext"
    }
   },
   "source": [
    "## Summary\n",
    "This algorithm efficiently updates an allow list by reading the contents of a file \n",
    "into a string, converting the string into a list, and removing specific IP addresses \n",
    "from this list. The updated list is then written back to the file. Key components \n",
    "include the use of the `with` statement for file handling, the `.read()`, `.split()`, \n",
    "and `.join()` methods for string manipulation, and a `for` loop combined with the \n",
    "`.remove()` method to modify the list.\n"
   ]
  }
 ],
 "metadata": {
  "kernelspec": {
   "display_name": "Python 3",
   "language": "python",
   "name": "python3"
  },
  "language_info": {
   "codemirror_mode": {
    "name": "ipython",
    "version": 3
   },
   "file_extension": ".py",
   "mimetype": "text/x-python",
   "name": "python",
   "nbconvert_exporter": "python",
   "pygments_lexer": "ipython3",
   "version": "3.11.6"
  }
 },
 "nbformat": 4,
 "nbformat_minor": 2
}
